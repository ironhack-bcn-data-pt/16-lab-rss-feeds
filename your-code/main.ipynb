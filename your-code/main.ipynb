{
 "cells": [
  {
   "cell_type": "markdown",
   "metadata": {},
   "source": [
    "# Working with RSS Feeds Lab\n",
    "\n",
    "Complete the following set of exercises to solidify your knowledge of parsing RSS feeds and extracting information from them."
   ]
  },
  {
   "cell_type": "code",
   "execution_count": 1,
   "metadata": {},
   "outputs": [],
   "source": [
    "import feedparser"
   ]
  },
  {
   "cell_type": "markdown",
   "metadata": {},
   "source": [
    "### 1. Use feedparser to parse the following RSS feed URL."
   ]
  },
  {
   "cell_type": "code",
   "execution_count": 2,
   "metadata": {},
   "outputs": [],
   "source": [
    "url = 'http://feeds.feedburner.com/oreilly/radar/atom'"
   ]
  },
  {
   "cell_type": "code",
   "execution_count": 4,
   "metadata": {},
   "outputs": [],
   "source": [
    "d = feedparser.parse(url)"
   ]
  },
  {
   "cell_type": "markdown",
   "metadata": {},
   "source": [
    "### 2. Obtain a list of components (keys) that are available for this feed."
   ]
  },
  {
   "cell_type": "code",
   "execution_count": 14,
   "metadata": {},
   "outputs": [
    {
     "name": "stdout",
     "output_type": "stream",
     "text": [
      "['bozo', 'entries', 'feed', 'headers', 'etag', 'updated', 'updated_parsed', 'href', 'status', 'encoding', 'version', 'namespaces']\n"
     ]
    }
   ],
   "source": [
    "print(list(d.keys()))"
   ]
  },
  {
   "cell_type": "markdown",
   "metadata": {},
   "source": [
    "### 3. Obtain a list of components (keys) that are available for the *feed* component of this RSS feed."
   ]
  },
  {
   "cell_type": "code",
   "execution_count": 23,
   "metadata": {},
   "outputs": [
    {
     "name": "stdout",
     "output_type": "stream",
     "text": [
      "['title', 'title_detail', 'links', 'link', 'subtitle', 'subtitle_detail', 'updated', 'updated_parsed', 'language', 'sy_updateperiod', 'sy_updatefrequency', 'generator_detail', 'generator', 'feedburner_info', 'geo_lat', 'geo_long', 'feedburner_emailserviceid', 'feedburner_feedburnerhostname']\n"
     ]
    }
   ],
   "source": [
    "print(list(d.feed.keys()))"
   ]
  },
  {
   "cell_type": "markdown",
   "metadata": {},
   "source": [
    "### 4. Extract and print the feed title, subtitle, author, and link."
   ]
  },
  {
   "cell_type": "code",
   "execution_count": 60,
   "metadata": {
    "scrolled": true
   },
   "outputs": [
    {
     "name": "stdout",
     "output_type": "stream",
     "text": [
      "Feed title: Radar\n",
      "Feed subtitle: Now, next, and beyond: Tracking need-to-know trends at the intersection of business and technology\n",
      "Feed link: https://www.oreilly.com/radar\n"
     ]
    }
   ],
   "source": [
    "print(f\"Feed title: {d['feed']['title']}\\nFeed subtitle: {d['feed']['subtitle']}\\nFeed link: {d['feed']['link']}\")"
   ]
  },
  {
   "cell_type": "code",
   "execution_count": 55,
   "metadata": {},
   "outputs": [
    {
     "name": "stdout",
     "output_type": "stream",
     "text": [
      "1. Feed title: Remote Teams in ML/AI, Feed author: Q McCallum, Feed link: https://www.oreilly.com/radar/remote-teams-in-ml-ai/\n",
      "2. Feed title: Radar trends to watch: November 2021, Feed author: Mike Loukides, Feed link: https://www.oreilly.com/radar/radar-trends-to-watch-november-2021/\n",
      "3. Feed title: The Sobering Truth About the Impact of Your Business Ideas, Feed author: Eric Colson, Daragh Sibley and Dave Spiegel, Feed link: https://www.oreilly.com/radar/the-sobering-truth-about-the-impact-of-your-business-ideas/\n",
      "4. Feed title: MLOps and DevOps: Why Data Makes It Different, Feed author: Ville Tuulos and Hugo Bowne-Anderson, Feed link: https://www.oreilly.com/radar/mlops-and-devops-why-data-makes-it-different/\n",
      "5. Feed title: The Quality of Auto-Generated Code, Feed author: Mike Loukides and Kevlin Henney, Feed link: https://www.oreilly.com/radar/the-quality-of-auto-generated-code/\n",
      "6. Feed title: Radar trends to watch: October 2021, Feed author: Mike Loukides, Feed link: https://www.oreilly.com/radar/radar-trends-to-watch-october-2021/\n",
      "7. Feed title: Ethical Social Media: Oxymoron or Attainable Goal?, Feed author: Mike Barlow, Feed link: https://www.oreilly.com/radar/ethical-social-media-oxymoron-or-attainable-goal/\n",
      "8. Feed title: 2021 Data/AI Salary Survey, Feed author: Mike Loukides, Feed link: https://www.oreilly.com/radar/2021-data-ai-salary-survey/\n",
      "9. Feed title: Radar trends to watch: September 2021, Feed author: Mike Loukides, Feed link: https://www.oreilly.com/radar/radar-trends-to-watch-september-2021/\n",
      "10. Feed title: Rebranding Data, Feed author: Q McCallum, Feed link: https://www.oreilly.com/radar/rebranding-data/\n",
      "11. Feed title: A Way Forward with Communal Computing, Feed author: Chris Butler, Feed link: https://www.oreilly.com/radar/a-way-forward-with-communal-computing/\n",
      "12. Feed title: Defending against ransomware is all about the basics, Feed author: Mike Loukides, Feed link: https://www.oreilly.com/radar/defending-against-ransomware-is-all-about-the-basics/\n",
      "13. Feed title: Radar trends to watch: August 2021, Feed author: Mike Loukides, Feed link: https://www.oreilly.com/radar/radar-trends-to-watch-august-2021/\n",
      "14. Feed title: Communal Computing’s Many Problems, Feed author: Chris Butler, Feed link: https://www.oreilly.com/radar/communal-computings-many-problems/\n",
      "15. Feed title: Thinking About Glue, Feed author: Mike Loukides, Feed link: https://www.oreilly.com/radar/thinking-about-glue/\n",
      "16. Feed title: Radar trends to watch: July 2021, Feed author: Mike Loukides, Feed link: https://www.oreilly.com/radar/radar-trends-to-watch-july-2021/\n",
      "17. Feed title: Hand Labeling Considered Harmful, Feed author: Shayan Mohanty and Hugo Bowne-Anderson, Feed link: https://www.oreilly.com/radar/arguments-against-hand-labeling/\n",
      "18. Feed title: Two economies. Two sets of rules., Feed author: Tim O’Reilly, Feed link: https://www.oreilly.com/radar/two-economies-two-sets-of-rules/\n",
      "19. Feed title: Communal Computing, Feed author: Chris Butler, Feed link: https://www.oreilly.com/radar/communal-computing/\n",
      "20. Feed title: Code as Infrastructure, Feed author: Mike Loukides, Feed link: https://www.oreilly.com/radar/code-as-infrastructure/\n",
      "21. Feed title: Radar trends to watch: June 2021, Feed author: Mike Loukides, Feed link: https://www.oreilly.com/radar/radar-trends-to-watch-june-2021/\n",
      "22. Feed title: AI Powered Misinformation and Manipulation at Scale #GPT-3, Feed author: Nitesh Dhanjani, Feed link: https://www.oreilly.com/radar/ai-powered-misinformation-and-manipulation-at-scale-gpt-3/\n",
      "23. Feed title: DeepCheapFakes, Feed author: Mike Loukides, Feed link: https://www.oreilly.com/radar/deepcheapfakes/\n",
      "24. Feed title: Radar trends to watch: May 2021, Feed author: Mike Loukides, Feed link: https://www.oreilly.com/radar/radar-trends-to-watch-may-2021/\n",
      "25. Feed title: Checking Jeff Bezos’s Math, Feed author: Tim O’Reilly, Feed link: https://www.oreilly.com/radar/checking-jeff-bezoss-math/\n",
      "26. Feed title: AI Adoption in the Enterprise 2021, Feed author: Mike Loukides, Feed link: https://www.oreilly.com/radar/ai-adoption-in-the-enterprise-2021/\n",
      "27. Feed title: NFTs: Owning Digital Art, Feed author: Mike Loukides, Feed link: https://www.oreilly.com/radar/nfts-owning-digital-art/\n",
      "28. Feed title: Radar trends to watch: April 2021, Feed author: Mike Loukides, Feed link: https://www.oreilly.com/radar/radar-trends-to-watch-april-2021/\n",
      "29. Feed title: InfoTribes, Reality Brokers, Feed author: Hugo Bowne-Anderson, Feed link: https://www.oreilly.com/radar/infotribes-reality-brokers/\n",
      "30. Feed title: The End of Silicon Valley as We Know It?, Feed author: Tim O’Reilly, Feed link: https://www.oreilly.com/radar/the-end-of-silicon-valley-as-we-know-it/\n",
      "31. Feed title: The Next Generation of AI, Feed author: Mike Loukides, Feed link: https://www.oreilly.com/radar/the-next-generation-of-ai/\n",
      "32. Feed title: Radar trends to watch: March 2021, Feed author: Mike Loukides, Feed link: https://www.oreilly.com/radar/radar-trends-to-watch-march-2021/\n",
      "33. Feed title: Product Management for AI, Feed author: Mike Loukides, Feed link: https://www.oreilly.com/radar/product-management-for-ai/\n",
      "34. Feed title: 5 things on our data and AI radar for 2021, Feed author: , Feed link: https://www.oreilly.com/radar/5-things-on-our-data-and-ai-radar-for-2021/\n",
      "35. Feed title: 5 infrastructure and operations trends to watch in 2021, Feed author: , Feed link: https://www.oreilly.com/radar/5-infrastructure-and-operations-trends-to-watch-in-2021/\n",
      "36. Feed title: The Wrong Question, Feed author: Mike Loukides, Feed link: https://www.oreilly.com/radar/the-wrong-question/\n",
      "37. Feed title: Radar trends to watch: February 2021, Feed author: Mike Loukides, Feed link: https://www.oreilly.com/radar/radar-trends-to-watch-february-2021/\n",
      "38. Feed title: Where Programming, Ops, AI, and the Cloud are Headed in 2021, Feed author: Mike Loukides, Feed link: https://www.oreilly.com/radar/where-programming-ops-ai-and-the-cloud-are-headed-in-2021/\n",
      "39. Feed title: Seven Legal Questions for Data Scientists, Feed author: Patrick Hall and Ayoub Ouederni, Feed link: https://www.oreilly.com/radar/seven-legal-questions-for-data-scientists/\n",
      "40. Feed title: Patterns, Feed author: Mike Loukides, Feed link: https://www.oreilly.com/radar/patterns/\n",
      "41. Feed title: Radar trends to watch: January 2021, Feed author: Mike Loukides, Feed link: https://www.oreilly.com/radar/radar-trends-to-watch-january-2021/\n",
      "42. Feed title: Four short links: 14 Dec 2020, Feed author: Nat Torkington, Feed link: https://www.oreilly.com/radar/four-short-links-14-dec-2020/\n",
      "43. Feed title: Four short links: 8 Dec 2020, Feed author: Nat Torkington, Feed link: https://www.oreilly.com/radar/four-short-links-8-dec-2020/\n",
      "44. Feed title: O’Reilly’s top 20 live online training courses of 2020, Feed author: , Feed link: https://www.oreilly.com/radar/oreillys-top-20-live-online-training-courses-of-2020/\n",
      "45. Feed title: What is functional programming?, Feed author: Mike Loukides, Feed link: https://www.oreilly.com/radar/what-is-functional-programming/\n",
      "46. Feed title: Four short links: 4 Dec 2020, Feed author: Nat Torkington, Feed link: https://www.oreilly.com/radar/four-short-links-4-dec-2020/\n",
      "47. Feed title: Four short links: 1 Dec 2020, Feed author: Nat Torkington, Feed link: https://www.oreilly.com/radar/four-short-links-1-dec-2020/\n",
      "48. Feed title: Radar trends to watch: December 2020, Feed author: Mike Loukides, Feed link: https://www.oreilly.com/radar/radar-trends-to-watch-december-2020/\n",
      "49. Feed title: Four short links: 27 Nov 2020, Feed author: Nat Torkington, Feed link: https://www.oreilly.com/radar/four-short-links-27-nov-2020/\n",
      "50. Feed title: Four short links: 24 Nov 2020, Feed author: Nat Torkington, Feed link: https://www.oreilly.com/radar/four-short-links-24-nov-2020/\n",
      "51. Feed title: Four short links: 20 Nov 2020, Feed author: Nat Torkington, Feed link: https://www.oreilly.com/radar/four-short-links-20-nov-2020/\n",
      "52. Feed title: On Exactitude in Technical Debt, Feed author: Kevlin Henney, Feed link: https://www.oreilly.com/radar/on-exactitude-in-technical-debt/\n",
      "53. Feed title: Four short links: 17 Nov 2020, Feed author: Nat Torkington, Feed link: https://www.oreilly.com/radar/four-short-links-17-nov-2020/\n",
      "54. Feed title: Four short links: 13 Nov 2020, Feed author: Nat Torkington, Feed link: https://www.oreilly.com/radar/four-short-links-13-nov-2020/\n",
      "55. Feed title: Multi-Paradigm Languages, Feed author: Mike Loukides, Feed link: https://www.oreilly.com/radar/multi-paradigm-languages/\n",
      "56. Feed title: Four short links: 10 November 2020, Feed author: Nat Torkington, Feed link: https://www.oreilly.com/radar/four-short-links-10-november-2020/\n",
      "57. Feed title: Four short links: 6 Nov 2020, Feed author: Nat Torkington, Feed link: https://www.oreilly.com/radar/four-short-links-6-nov-2020/\n",
      "58. Feed title: Four short links: 4 Nov 2020, Feed author: Nat Torkington, Feed link: https://www.oreilly.com/radar/four-short-links-4-nov-2020/\n",
      "59. Feed title: Radar trends to watch: November 2020, Feed author: Mike Loukides, Feed link: https://www.oreilly.com/radar/radar-trends-to-watch-november-2020/\n",
      "60. Feed title: Four short links: 30 Oct 2020, Feed author: Nat Torkington, Feed link: https://www.oreilly.com/radar/four-short-links-30-oct-2020/\n"
     ]
    }
   ],
   "source": [
    "for i in range(len(d['entries'])):\n",
    "    print(f\"{i+1}. Feed title: {d['entries'][i]['title']}, Feed author: {d['entries'][i]['author']}, Feed link: {d['entries'][i]['link']}\")"
   ]
  },
  {
   "cell_type": "markdown",
   "metadata": {},
   "source": [
    "### 5. Count the number of entries that are contained in this RSS feed."
   ]
  },
  {
   "cell_type": "code",
   "execution_count": 61,
   "metadata": {},
   "outputs": [
    {
     "data": {
      "text/plain": [
       "60"
      ]
     },
     "execution_count": 61,
     "metadata": {},
     "output_type": "execute_result"
    }
   ],
   "source": [
    "len(d.entries)"
   ]
  },
  {
   "cell_type": "markdown",
   "metadata": {},
   "source": [
    "### 6. Obtain a list of components (keys) available for an entry.\n",
    "\n",
    "*Hint: Remember to index first before requesting the keys*"
   ]
  },
  {
   "cell_type": "code",
   "execution_count": 73,
   "metadata": {},
   "outputs": [
    {
     "name": "stdout",
     "output_type": "stream",
     "text": [
      "['title', 'title_detail', 'links', 'link', 'comments', 'published', 'published_parsed', 'authors', 'author', 'author_detail', 'tags', 'id', 'guidislink', 'summary', 'summary_detail', 'content', 'wfw_commentrss', 'slash_comments']\n"
     ]
    }
   ],
   "source": [
    "print(list(d.entries[0].keys()))"
   ]
  },
  {
   "cell_type": "markdown",
   "metadata": {},
   "source": [
    "### 7. Extract a list of entry titles."
   ]
  },
  {
   "cell_type": "code",
   "execution_count": 92,
   "metadata": {
    "scrolled": true
   },
   "outputs": [
    {
     "data": {
      "text/plain": [
       "['Remote Teams in ML/AI',\n",
       " 'Radar trends to watch: November 2021',\n",
       " 'The Sobering Truth About the Impact of Your Business Ideas',\n",
       " 'MLOps and DevOps: Why Data Makes It Different',\n",
       " 'The Quality of Auto-Generated Code',\n",
       " 'Radar trends to watch: October 2021',\n",
       " 'Ethical Social Media: Oxymoron or Attainable Goal?',\n",
       " '2021 Data/AI Salary Survey',\n",
       " 'Radar trends to watch: September 2021',\n",
       " 'Rebranding Data',\n",
       " 'A Way Forward with Communal Computing',\n",
       " 'Defending against ransomware is all about the basics',\n",
       " 'Radar trends to watch: August 2021',\n",
       " 'Communal Computing’s Many Problems',\n",
       " 'Thinking About Glue',\n",
       " 'Radar trends to watch: July 2021',\n",
       " 'Hand Labeling Considered Harmful',\n",
       " 'Two economies. Two sets of rules.',\n",
       " 'Communal Computing',\n",
       " 'Code as Infrastructure',\n",
       " 'Radar trends to watch: June 2021',\n",
       " 'AI Powered Misinformation and Manipulation at Scale #GPT-3',\n",
       " 'DeepCheapFakes',\n",
       " 'Radar trends to watch: May 2021',\n",
       " 'Checking Jeff Bezos’s Math',\n",
       " 'AI Adoption in the Enterprise 2021',\n",
       " 'NFTs: Owning Digital Art',\n",
       " 'Radar trends to watch: April 2021',\n",
       " 'InfoTribes, Reality Brokers',\n",
       " 'The End of Silicon Valley as We Know It?',\n",
       " 'The Next Generation of AI',\n",
       " 'Radar trends to watch: March 2021',\n",
       " 'Product Management for AI',\n",
       " '5 things on our data and AI radar for 2021',\n",
       " '5 infrastructure and operations trends to watch in 2021',\n",
       " 'The Wrong Question',\n",
       " 'Radar trends to watch: February 2021',\n",
       " 'Where Programming, Ops, AI, and the Cloud are Headed in 2021',\n",
       " 'Seven Legal Questions for Data Scientists',\n",
       " 'Patterns',\n",
       " 'Radar trends to watch: January 2021',\n",
       " 'Four short links: 14 Dec 2020',\n",
       " 'Four short links: 8 Dec 2020',\n",
       " 'O’Reilly’s top 20 live online training courses of 2020',\n",
       " 'What is functional programming?',\n",
       " 'Four short links: 4 Dec 2020',\n",
       " 'Four short links: 1 Dec 2020',\n",
       " 'Radar trends to watch: December 2020',\n",
       " 'Four short links: 27 Nov 2020',\n",
       " 'Four short links: 24 Nov 2020',\n",
       " 'Four short links: 20 Nov 2020',\n",
       " 'On Exactitude in Technical Debt',\n",
       " 'Four short links: 17 Nov 2020',\n",
       " 'Four short links: 13 Nov 2020',\n",
       " 'Multi-Paradigm Languages',\n",
       " 'Four short links: 10 November 2020',\n",
       " 'Four short links: 6 Nov 2020',\n",
       " 'Four short links: 4 Nov 2020',\n",
       " 'Radar trends to watch: November 2020',\n",
       " 'Four short links: 30 Oct 2020']"
      ]
     },
     "execution_count": 92,
     "metadata": {},
     "output_type": "execute_result"
    }
   ],
   "source": [
    "entry_titles = []\n",
    "for i in range(len(d['entries'])):\n",
    "    entry_titles.append(d['entries'][i]['title'])\n",
    "    \n",
    "entry_titles"
   ]
  },
  {
   "cell_type": "markdown",
   "metadata": {},
   "source": [
    "### 8. Calculate the percentage of \"Four short links\" entry titles."
   ]
  },
  {
   "cell_type": "code",
   "execution_count": 82,
   "metadata": {},
   "outputs": [
    {
     "data": {
      "text/plain": [
       "['Four short links: 14 Dec 2020',\n",
       " 'Four short links: 8 Dec 2020',\n",
       " 'Four short links: 4 Dec 2020',\n",
       " 'Four short links: 1 Dec 2020',\n",
       " 'Four short links: 27 Nov 2020',\n",
       " 'Four short links: 24 Nov 2020',\n",
       " 'Four short links: 20 Nov 2020',\n",
       " 'Four short links: 17 Nov 2020',\n",
       " 'Four short links: 13 Nov 2020',\n",
       " 'Four short links: 10 November 2020',\n",
       " 'Four short links: 6 Nov 2020',\n",
       " 'Four short links: 4 Nov 2020',\n",
       " 'Four short links: 30 Oct 2020']"
      ]
     },
     "execution_count": 82,
     "metadata": {},
     "output_type": "execute_result"
    }
   ],
   "source": [
    "four_short_links = []\n",
    "for i in entry_titles:\n",
    "    if \"Four short links\" in i:\n",
    "        four_short_links.append(i)\n",
    "four_short_links        "
   ]
  },
  {
   "cell_type": "code",
   "execution_count": 93,
   "metadata": {},
   "outputs": [
    {
     "data": {
      "text/plain": [
       "'\"Four short links\" titles make up 21.67% of all entry titles'"
      ]
     },
     "execution_count": 93,
     "metadata": {},
     "output_type": "execute_result"
    }
   ],
   "source": [
    "f'\"Four short links\" titles make up {round(100*len(four_short_links)/len(entry_titles), 2)}% of all entry titles'"
   ]
  },
  {
   "cell_type": "markdown",
   "metadata": {},
   "source": [
    "### 9. Create a Pandas data frame from the feed's entries."
   ]
  },
  {
   "cell_type": "code",
   "execution_count": 94,
   "metadata": {},
   "outputs": [],
   "source": [
    "import pandas as pd"
   ]
  },
  {
   "cell_type": "code",
   "execution_count": 118,
   "metadata": {},
   "outputs": [
    {
     "data": {
      "text/html": [
       "<div>\n",
       "<style scoped>\n",
       "    .dataframe tbody tr th:only-of-type {\n",
       "        vertical-align: middle;\n",
       "    }\n",
       "\n",
       "    .dataframe tbody tr th {\n",
       "        vertical-align: top;\n",
       "    }\n",
       "\n",
       "    .dataframe thead th {\n",
       "        text-align: right;\n",
       "    }\n",
       "</style>\n",
       "<table border=\"1\" class=\"dataframe\">\n",
       "  <thead>\n",
       "    <tr style=\"text-align: right;\">\n",
       "      <th></th>\n",
       "      <th>title</th>\n",
       "      <th>title_detail</th>\n",
       "      <th>links</th>\n",
       "      <th>link</th>\n",
       "      <th>comments</th>\n",
       "      <th>published</th>\n",
       "      <th>published_parsed</th>\n",
       "      <th>authors</th>\n",
       "      <th>author</th>\n",
       "      <th>author_detail</th>\n",
       "      <th>tags</th>\n",
       "      <th>id</th>\n",
       "      <th>guidislink</th>\n",
       "      <th>summary</th>\n",
       "      <th>summary_detail</th>\n",
       "      <th>content</th>\n",
       "      <th>wfw_commentrss</th>\n",
       "      <th>slash_comments</th>\n",
       "    </tr>\n",
       "  </thead>\n",
       "  <tbody>\n",
       "    <tr>\n",
       "      <th>0</th>\n",
       "      <td>Remote Teams in ML/AI</td>\n",
       "      <td>{'type': 'text/plain', 'language': None, 'base...</td>\n",
       "      <td>[{'rel': 'alternate', 'type': 'text/html', 'hr...</td>\n",
       "      <td>https://www.oreilly.com/radar/remote-teams-in-...</td>\n",
       "      <td>https://www.oreilly.com/radar/remote-teams-in-...</td>\n",
       "      <td>Tue, 09 Nov 2021 14:05:48 +0000</td>\n",
       "      <td>(2021, 11, 9, 14, 5, 48, 1, 313, 0)</td>\n",
       "      <td>[{'name': 'Q McCallum'}]</td>\n",
       "      <td>Q McCallum</td>\n",
       "      <td>{'name': 'Q McCallum'}</td>\n",
       "      <td>[{'term': 'Building a data culture', 'scheme':...</td>\n",
       "      <td>https://www.oreilly.com/radar/?p=14075</td>\n",
       "      <td>False</td>\n",
       "      <td>I&amp;#8217;m well-versed in the ups and downs of ...</td>\n",
       "      <td>{'type': 'text/html', 'language': None, 'base'...</td>\n",
       "      <td>[{'type': 'text/html', 'language': None, 'base...</td>\n",
       "      <td>https://www.oreilly.com/radar/remote-teams-in-...</td>\n",
       "      <td>0</td>\n",
       "    </tr>\n",
       "    <tr>\n",
       "      <th>1</th>\n",
       "      <td>Radar trends to watch: November 2021</td>\n",
       "      <td>{'type': 'text/plain', 'language': None, 'base...</td>\n",
       "      <td>[{'rel': 'alternate', 'type': 'text/html', 'hr...</td>\n",
       "      <td>https://www.oreilly.com/radar/radar-trends-to-...</td>\n",
       "      <td>https://www.oreilly.com/radar/radar-trends-to-...</td>\n",
       "      <td>Tue, 02 Nov 2021 11:40:17 +0000</td>\n",
       "      <td>(2021, 11, 2, 11, 40, 17, 1, 306, 0)</td>\n",
       "      <td>[{'name': 'Mike Loukides'}]</td>\n",
       "      <td>Mike Loukides</td>\n",
       "      <td>{'name': 'Mike Loukides'}</td>\n",
       "      <td>[{'term': 'Radar Trends', 'scheme': None, 'lab...</td>\n",
       "      <td>https://www.oreilly.com/radar/?p=14066</td>\n",
       "      <td>False</td>\n",
       "      <td>While October’s news was dominated by Facebook...</td>\n",
       "      <td>{'type': 'text/html', 'language': None, 'base'...</td>\n",
       "      <td>[{'type': 'text/html', 'language': None, 'base...</td>\n",
       "      <td>https://www.oreilly.com/radar/radar-trends-to-...</td>\n",
       "      <td>0</td>\n",
       "    </tr>\n",
       "    <tr>\n",
       "      <th>2</th>\n",
       "      <td>The Sobering Truth About the Impact of Your Bu...</td>\n",
       "      <td>{'type': 'text/plain', 'language': None, 'base...</td>\n",
       "      <td>[{'rel': 'alternate', 'type': 'text/html', 'hr...</td>\n",
       "      <td>https://www.oreilly.com/radar/the-sobering-tru...</td>\n",
       "      <td>https://www.oreilly.com/radar/the-sobering-tru...</td>\n",
       "      <td>Tue, 26 Oct 2021 13:07:58 +0000</td>\n",
       "      <td>(2021, 10, 26, 13, 7, 58, 1, 299, 0)</td>\n",
       "      <td>[{'name': 'Eric Colson, Daragh Sibley and Dave...</td>\n",
       "      <td>Eric Colson, Daragh Sibley and Dave Spiegel</td>\n",
       "      <td>{'name': 'Eric Colson, Daragh Sibley and Dave ...</td>\n",
       "      <td>[{'term': 'Business', 'scheme': None, 'label':...</td>\n",
       "      <td>https://www.oreilly.com/radar/?p=14041</td>\n",
       "      <td>False</td>\n",
       "      <td>The introduction of data science into the busi...</td>\n",
       "      <td>{'type': 'text/html', 'language': None, 'base'...</td>\n",
       "      <td>[{'type': 'text/html', 'language': None, 'base...</td>\n",
       "      <td>https://www.oreilly.com/radar/the-sobering-tru...</td>\n",
       "      <td>0</td>\n",
       "    </tr>\n",
       "    <tr>\n",
       "      <th>3</th>\n",
       "      <td>MLOps and DevOps: Why Data Makes It Different</td>\n",
       "      <td>{'type': 'text/plain', 'language': None, 'base...</td>\n",
       "      <td>[{'rel': 'alternate', 'type': 'text/html', 'hr...</td>\n",
       "      <td>https://www.oreilly.com/radar/mlops-and-devops...</td>\n",
       "      <td>https://www.oreilly.com/radar/mlops-and-devops...</td>\n",
       "      <td>Tue, 19 Oct 2021 14:17:38 +0000</td>\n",
       "      <td>(2021, 10, 19, 14, 17, 38, 1, 292, 0)</td>\n",
       "      <td>[{'name': 'Ville Tuulos and Hugo Bowne-Anderso...</td>\n",
       "      <td>Ville Tuulos and Hugo Bowne-Anderson</td>\n",
       "      <td>{'name': 'Ville Tuulos and Hugo Bowne-Anderson'}</td>\n",
       "      <td>[{'term': 'AI &amp; ML', 'scheme': None, 'label': ...</td>\n",
       "      <td>https://www.oreilly.com/radar/?p=14018</td>\n",
       "      <td>False</td>\n",
       "      <td>Much has been written about struggles of deplo...</td>\n",
       "      <td>{'type': 'text/html', 'language': None, 'base'...</td>\n",
       "      <td>[{'type': 'text/html', 'language': None, 'base...</td>\n",
       "      <td>https://www.oreilly.com/radar/mlops-and-devops...</td>\n",
       "      <td>0</td>\n",
       "    </tr>\n",
       "    <tr>\n",
       "      <th>4</th>\n",
       "      <td>The Quality of Auto-Generated Code</td>\n",
       "      <td>{'type': 'text/plain', 'language': None, 'base...</td>\n",
       "      <td>[{'rel': 'alternate', 'type': 'text/html', 'hr...</td>\n",
       "      <td>https://www.oreilly.com/radar/the-quality-of-a...</td>\n",
       "      <td>https://www.oreilly.com/radar/the-quality-of-a...</td>\n",
       "      <td>Tue, 12 Oct 2021 13:45:10 +0000</td>\n",
       "      <td>(2021, 10, 12, 13, 45, 10, 1, 285, 0)</td>\n",
       "      <td>[{'name': 'Mike Loukides and Kevlin Henney'}]</td>\n",
       "      <td>Mike Loukides and Kevlin Henney</td>\n",
       "      <td>{'name': 'Mike Loukides and Kevlin Henney'}</td>\n",
       "      <td>[{'term': 'AI &amp; ML', 'scheme': None, 'label': ...</td>\n",
       "      <td>https://www.oreilly.com/radar/?p=14007</td>\n",
       "      <td>False</td>\n",
       "      <td>Kevlin Henney and I were riffing on some ideas...</td>\n",
       "      <td>{'type': 'text/html', 'language': None, 'base'...</td>\n",
       "      <td>[{'type': 'text/html', 'language': None, 'base...</td>\n",
       "      <td>https://www.oreilly.com/radar/the-quality-of-a...</td>\n",
       "      <td>0</td>\n",
       "    </tr>\n",
       "    <tr>\n",
       "      <th>5</th>\n",
       "      <td>Radar trends to watch: October 2021</td>\n",
       "      <td>{'type': 'text/plain', 'language': None, 'base...</td>\n",
       "      <td>[{'rel': 'alternate', 'type': 'text/html', 'hr...</td>\n",
       "      <td>https://www.oreilly.com/radar/radar-trends-to-...</td>\n",
       "      <td>https://www.oreilly.com/radar/radar-trends-to-...</td>\n",
       "      <td>Tue, 05 Oct 2021 11:42:52 +0000</td>\n",
       "      <td>(2021, 10, 5, 11, 42, 52, 1, 278, 0)</td>\n",
       "      <td>[{'name': 'Mike Loukides'}]</td>\n",
       "      <td>Mike Loukides</td>\n",
       "      <td>{'name': 'Mike Loukides'}</td>\n",
       "      <td>[{'term': 'Radar Trends', 'scheme': None, 'lab...</td>\n",
       "      <td>https://www.oreilly.com/radar/?p=14000</td>\n",
       "      <td>False</td>\n",
       "      <td>The unwilling star of this month’s trends is c...</td>\n",
       "      <td>{'type': 'text/html', 'language': None, 'base'...</td>\n",
       "      <td>[{'type': 'text/html', 'language': None, 'base...</td>\n",
       "      <td>https://www.oreilly.com/radar/radar-trends-to-...</td>\n",
       "      <td>0</td>\n",
       "    </tr>\n",
       "    <tr>\n",
       "      <th>6</th>\n",
       "      <td>Ethical Social Media: Oxymoron or Attainable G...</td>\n",
       "      <td>{'type': 'text/plain', 'language': None, 'base...</td>\n",
       "      <td>[{'rel': 'alternate', 'type': 'text/html', 'hr...</td>\n",
       "      <td>https://www.oreilly.com/radar/ethical-social-m...</td>\n",
       "      <td>https://www.oreilly.com/radar/ethical-social-m...</td>\n",
       "      <td>Tue, 21 Sep 2021 11:55:27 +0000</td>\n",
       "      <td>(2021, 9, 21, 11, 55, 27, 1, 264, 0)</td>\n",
       "      <td>[{'name': 'Mike Barlow'}]</td>\n",
       "      <td>Mike Barlow</td>\n",
       "      <td>{'name': 'Mike Barlow'}</td>\n",
       "      <td>[{'term': 'Social Media', 'scheme': None, 'lab...</td>\n",
       "      <td>https://www.oreilly.com/radar/?p=13981</td>\n",
       "      <td>False</td>\n",
       "      <td>Humans have wrestled with ethics for millennia...</td>\n",
       "      <td>{'type': 'text/html', 'language': None, 'base'...</td>\n",
       "      <td>[{'type': 'text/html', 'language': None, 'base...</td>\n",
       "      <td>https://www.oreilly.com/radar/ethical-social-m...</td>\n",
       "      <td>0</td>\n",
       "    </tr>\n",
       "    <tr>\n",
       "      <th>7</th>\n",
       "      <td>2021 Data/AI Salary Survey</td>\n",
       "      <td>{'type': 'text/plain', 'language': None, 'base...</td>\n",
       "      <td>[{'rel': 'alternate', 'type': 'text/html', 'hr...</td>\n",
       "      <td>https://www.oreilly.com/radar/2021-data-ai-sal...</td>\n",
       "      <td>https://www.oreilly.com/radar/2021-data-ai-sal...</td>\n",
       "      <td>Wed, 15 Sep 2021 11:32:26 +0000</td>\n",
       "      <td>(2021, 9, 15, 11, 32, 26, 2, 258, 0)</td>\n",
       "      <td>[{'name': 'Mike Loukides'}]</td>\n",
       "      <td>Mike Loukides</td>\n",
       "      <td>{'name': 'Mike Loukides'}</td>\n",
       "      <td>[{'term': 'AI &amp; ML', 'scheme': None, 'label': ...</td>\n",
       "      <td>https://www.oreilly.com/radar/?p=13950</td>\n",
       "      <td>False</td>\n",
       "      <td>In June 2021, we asked the recipients of our&amp;#...</td>\n",
       "      <td>{'type': 'text/html', 'language': None, 'base'...</td>\n",
       "      <td>[{'type': 'text/html', 'language': None, 'base...</td>\n",
       "      <td>https://www.oreilly.com/radar/2021-data-ai-sal...</td>\n",
       "      <td>0</td>\n",
       "    </tr>\n",
       "    <tr>\n",
       "      <th>8</th>\n",
       "      <td>Radar trends to watch: September 2021</td>\n",
       "      <td>{'type': 'text/plain', 'language': None, 'base...</td>\n",
       "      <td>[{'rel': 'alternate', 'type': 'text/html', 'hr...</td>\n",
       "      <td>https://www.oreilly.com/radar/radar-trends-to-...</td>\n",
       "      <td>https://www.oreilly.com/radar/radar-trends-to-...</td>\n",
       "      <td>Wed, 01 Sep 2021 12:18:33 +0000</td>\n",
       "      <td>(2021, 9, 1, 12, 18, 33, 2, 244, 0)</td>\n",
       "      <td>[{'name': 'Mike Loukides'}]</td>\n",
       "      <td>Mike Loukides</td>\n",
       "      <td>{'name': 'Mike Loukides'}</td>\n",
       "      <td>[{'term': 'Radar Trends', 'scheme': None, 'lab...</td>\n",
       "      <td>https://www.oreilly.com/radar/?p=13943</td>\n",
       "      <td>False</td>\n",
       "      <td>Let’s start with a moment of silence for O’Rei...</td>\n",
       "      <td>{'type': 'text/html', 'language': None, 'base'...</td>\n",
       "      <td>[{'type': 'text/html', 'language': None, 'base...</td>\n",
       "      <td>https://www.oreilly.com/radar/radar-trends-to-...</td>\n",
       "      <td>0</td>\n",
       "    </tr>\n",
       "    <tr>\n",
       "      <th>9</th>\n",
       "      <td>Rebranding Data</td>\n",
       "      <td>{'type': 'text/plain', 'language': None, 'base...</td>\n",
       "      <td>[{'rel': 'alternate', 'type': 'text/html', 'hr...</td>\n",
       "      <td>https://www.oreilly.com/radar/rebranding-data/</td>\n",
       "      <td>https://www.oreilly.com/radar/rebranding-data/...</td>\n",
       "      <td>Tue, 24 Aug 2021 14:16:28 +0000</td>\n",
       "      <td>(2021, 8, 24, 14, 16, 28, 1, 236, 0)</td>\n",
       "      <td>[{'name': 'Q McCallum'}]</td>\n",
       "      <td>Q McCallum</td>\n",
       "      <td>{'name': 'Q McCallum'}</td>\n",
       "      <td>[{'term': 'Data', 'scheme': None, 'label': Non...</td>\n",
       "      <td>https://www.oreilly.com/radar/?p=13932</td>\n",
       "      <td>False</td>\n",
       "      <td>There&amp;#8217;s a flavor of puzzle in which you ...</td>\n",
       "      <td>{'type': 'text/html', 'language': None, 'base'...</td>\n",
       "      <td>[{'type': 'text/html', 'language': None, 'base...</td>\n",
       "      <td>https://www.oreilly.com/radar/rebranding-data/...</td>\n",
       "      <td>0</td>\n",
       "    </tr>\n",
       "  </tbody>\n",
       "</table>\n",
       "</div>"
      ],
      "text/plain": [
       "                                               title  \\\n",
       "0                              Remote Teams in ML/AI   \n",
       "1               Radar trends to watch: November 2021   \n",
       "2  The Sobering Truth About the Impact of Your Bu...   \n",
       "3      MLOps and DevOps: Why Data Makes It Different   \n",
       "4                 The Quality of Auto-Generated Code   \n",
       "5                Radar trends to watch: October 2021   \n",
       "6  Ethical Social Media: Oxymoron or Attainable G...   \n",
       "7                         2021 Data/AI Salary Survey   \n",
       "8              Radar trends to watch: September 2021   \n",
       "9                                    Rebranding Data   \n",
       "\n",
       "                                        title_detail  \\\n",
       "0  {'type': 'text/plain', 'language': None, 'base...   \n",
       "1  {'type': 'text/plain', 'language': None, 'base...   \n",
       "2  {'type': 'text/plain', 'language': None, 'base...   \n",
       "3  {'type': 'text/plain', 'language': None, 'base...   \n",
       "4  {'type': 'text/plain', 'language': None, 'base...   \n",
       "5  {'type': 'text/plain', 'language': None, 'base...   \n",
       "6  {'type': 'text/plain', 'language': None, 'base...   \n",
       "7  {'type': 'text/plain', 'language': None, 'base...   \n",
       "8  {'type': 'text/plain', 'language': None, 'base...   \n",
       "9  {'type': 'text/plain', 'language': None, 'base...   \n",
       "\n",
       "                                               links  \\\n",
       "0  [{'rel': 'alternate', 'type': 'text/html', 'hr...   \n",
       "1  [{'rel': 'alternate', 'type': 'text/html', 'hr...   \n",
       "2  [{'rel': 'alternate', 'type': 'text/html', 'hr...   \n",
       "3  [{'rel': 'alternate', 'type': 'text/html', 'hr...   \n",
       "4  [{'rel': 'alternate', 'type': 'text/html', 'hr...   \n",
       "5  [{'rel': 'alternate', 'type': 'text/html', 'hr...   \n",
       "6  [{'rel': 'alternate', 'type': 'text/html', 'hr...   \n",
       "7  [{'rel': 'alternate', 'type': 'text/html', 'hr...   \n",
       "8  [{'rel': 'alternate', 'type': 'text/html', 'hr...   \n",
       "9  [{'rel': 'alternate', 'type': 'text/html', 'hr...   \n",
       "\n",
       "                                                link  \\\n",
       "0  https://www.oreilly.com/radar/remote-teams-in-...   \n",
       "1  https://www.oreilly.com/radar/radar-trends-to-...   \n",
       "2  https://www.oreilly.com/radar/the-sobering-tru...   \n",
       "3  https://www.oreilly.com/radar/mlops-and-devops...   \n",
       "4  https://www.oreilly.com/radar/the-quality-of-a...   \n",
       "5  https://www.oreilly.com/radar/radar-trends-to-...   \n",
       "6  https://www.oreilly.com/radar/ethical-social-m...   \n",
       "7  https://www.oreilly.com/radar/2021-data-ai-sal...   \n",
       "8  https://www.oreilly.com/radar/radar-trends-to-...   \n",
       "9     https://www.oreilly.com/radar/rebranding-data/   \n",
       "\n",
       "                                            comments  \\\n",
       "0  https://www.oreilly.com/radar/remote-teams-in-...   \n",
       "1  https://www.oreilly.com/radar/radar-trends-to-...   \n",
       "2  https://www.oreilly.com/radar/the-sobering-tru...   \n",
       "3  https://www.oreilly.com/radar/mlops-and-devops...   \n",
       "4  https://www.oreilly.com/radar/the-quality-of-a...   \n",
       "5  https://www.oreilly.com/radar/radar-trends-to-...   \n",
       "6  https://www.oreilly.com/radar/ethical-social-m...   \n",
       "7  https://www.oreilly.com/radar/2021-data-ai-sal...   \n",
       "8  https://www.oreilly.com/radar/radar-trends-to-...   \n",
       "9  https://www.oreilly.com/radar/rebranding-data/...   \n",
       "\n",
       "                         published                       published_parsed  \\\n",
       "0  Tue, 09 Nov 2021 14:05:48 +0000    (2021, 11, 9, 14, 5, 48, 1, 313, 0)   \n",
       "1  Tue, 02 Nov 2021 11:40:17 +0000   (2021, 11, 2, 11, 40, 17, 1, 306, 0)   \n",
       "2  Tue, 26 Oct 2021 13:07:58 +0000   (2021, 10, 26, 13, 7, 58, 1, 299, 0)   \n",
       "3  Tue, 19 Oct 2021 14:17:38 +0000  (2021, 10, 19, 14, 17, 38, 1, 292, 0)   \n",
       "4  Tue, 12 Oct 2021 13:45:10 +0000  (2021, 10, 12, 13, 45, 10, 1, 285, 0)   \n",
       "5  Tue, 05 Oct 2021 11:42:52 +0000   (2021, 10, 5, 11, 42, 52, 1, 278, 0)   \n",
       "6  Tue, 21 Sep 2021 11:55:27 +0000   (2021, 9, 21, 11, 55, 27, 1, 264, 0)   \n",
       "7  Wed, 15 Sep 2021 11:32:26 +0000   (2021, 9, 15, 11, 32, 26, 2, 258, 0)   \n",
       "8  Wed, 01 Sep 2021 12:18:33 +0000    (2021, 9, 1, 12, 18, 33, 2, 244, 0)   \n",
       "9  Tue, 24 Aug 2021 14:16:28 +0000   (2021, 8, 24, 14, 16, 28, 1, 236, 0)   \n",
       "\n",
       "                                             authors  \\\n",
       "0                           [{'name': 'Q McCallum'}]   \n",
       "1                        [{'name': 'Mike Loukides'}]   \n",
       "2  [{'name': 'Eric Colson, Daragh Sibley and Dave...   \n",
       "3  [{'name': 'Ville Tuulos and Hugo Bowne-Anderso...   \n",
       "4      [{'name': 'Mike Loukides and Kevlin Henney'}]   \n",
       "5                        [{'name': 'Mike Loukides'}]   \n",
       "6                          [{'name': 'Mike Barlow'}]   \n",
       "7                        [{'name': 'Mike Loukides'}]   \n",
       "8                        [{'name': 'Mike Loukides'}]   \n",
       "9                           [{'name': 'Q McCallum'}]   \n",
       "\n",
       "                                        author  \\\n",
       "0                                   Q McCallum   \n",
       "1                                Mike Loukides   \n",
       "2  Eric Colson, Daragh Sibley and Dave Spiegel   \n",
       "3         Ville Tuulos and Hugo Bowne-Anderson   \n",
       "4              Mike Loukides and Kevlin Henney   \n",
       "5                                Mike Loukides   \n",
       "6                                  Mike Barlow   \n",
       "7                                Mike Loukides   \n",
       "8                                Mike Loukides   \n",
       "9                                   Q McCallum   \n",
       "\n",
       "                                       author_detail  \\\n",
       "0                             {'name': 'Q McCallum'}   \n",
       "1                          {'name': 'Mike Loukides'}   \n",
       "2  {'name': 'Eric Colson, Daragh Sibley and Dave ...   \n",
       "3   {'name': 'Ville Tuulos and Hugo Bowne-Anderson'}   \n",
       "4        {'name': 'Mike Loukides and Kevlin Henney'}   \n",
       "5                          {'name': 'Mike Loukides'}   \n",
       "6                            {'name': 'Mike Barlow'}   \n",
       "7                          {'name': 'Mike Loukides'}   \n",
       "8                          {'name': 'Mike Loukides'}   \n",
       "9                             {'name': 'Q McCallum'}   \n",
       "\n",
       "                                                tags  \\\n",
       "0  [{'term': 'Building a data culture', 'scheme':...   \n",
       "1  [{'term': 'Radar Trends', 'scheme': None, 'lab...   \n",
       "2  [{'term': 'Business', 'scheme': None, 'label':...   \n",
       "3  [{'term': 'AI & ML', 'scheme': None, 'label': ...   \n",
       "4  [{'term': 'AI & ML', 'scheme': None, 'label': ...   \n",
       "5  [{'term': 'Radar Trends', 'scheme': None, 'lab...   \n",
       "6  [{'term': 'Social Media', 'scheme': None, 'lab...   \n",
       "7  [{'term': 'AI & ML', 'scheme': None, 'label': ...   \n",
       "8  [{'term': 'Radar Trends', 'scheme': None, 'lab...   \n",
       "9  [{'term': 'Data', 'scheme': None, 'label': Non...   \n",
       "\n",
       "                                       id  guidislink  \\\n",
       "0  https://www.oreilly.com/radar/?p=14075       False   \n",
       "1  https://www.oreilly.com/radar/?p=14066       False   \n",
       "2  https://www.oreilly.com/radar/?p=14041       False   \n",
       "3  https://www.oreilly.com/radar/?p=14018       False   \n",
       "4  https://www.oreilly.com/radar/?p=14007       False   \n",
       "5  https://www.oreilly.com/radar/?p=14000       False   \n",
       "6  https://www.oreilly.com/radar/?p=13981       False   \n",
       "7  https://www.oreilly.com/radar/?p=13950       False   \n",
       "8  https://www.oreilly.com/radar/?p=13943       False   \n",
       "9  https://www.oreilly.com/radar/?p=13932       False   \n",
       "\n",
       "                                             summary  \\\n",
       "0  I&#8217;m well-versed in the ups and downs of ...   \n",
       "1  While October’s news was dominated by Facebook...   \n",
       "2  The introduction of data science into the busi...   \n",
       "3  Much has been written about struggles of deplo...   \n",
       "4  Kevlin Henney and I were riffing on some ideas...   \n",
       "5  The unwilling star of this month’s trends is c...   \n",
       "6  Humans have wrestled with ethics for millennia...   \n",
       "7  In June 2021, we asked the recipients of our&#...   \n",
       "8  Let’s start with a moment of silence for O’Rei...   \n",
       "9  There&#8217;s a flavor of puzzle in which you ...   \n",
       "\n",
       "                                      summary_detail  \\\n",
       "0  {'type': 'text/html', 'language': None, 'base'...   \n",
       "1  {'type': 'text/html', 'language': None, 'base'...   \n",
       "2  {'type': 'text/html', 'language': None, 'base'...   \n",
       "3  {'type': 'text/html', 'language': None, 'base'...   \n",
       "4  {'type': 'text/html', 'language': None, 'base'...   \n",
       "5  {'type': 'text/html', 'language': None, 'base'...   \n",
       "6  {'type': 'text/html', 'language': None, 'base'...   \n",
       "7  {'type': 'text/html', 'language': None, 'base'...   \n",
       "8  {'type': 'text/html', 'language': None, 'base'...   \n",
       "9  {'type': 'text/html', 'language': None, 'base'...   \n",
       "\n",
       "                                             content  \\\n",
       "0  [{'type': 'text/html', 'language': None, 'base...   \n",
       "1  [{'type': 'text/html', 'language': None, 'base...   \n",
       "2  [{'type': 'text/html', 'language': None, 'base...   \n",
       "3  [{'type': 'text/html', 'language': None, 'base...   \n",
       "4  [{'type': 'text/html', 'language': None, 'base...   \n",
       "5  [{'type': 'text/html', 'language': None, 'base...   \n",
       "6  [{'type': 'text/html', 'language': None, 'base...   \n",
       "7  [{'type': 'text/html', 'language': None, 'base...   \n",
       "8  [{'type': 'text/html', 'language': None, 'base...   \n",
       "9  [{'type': 'text/html', 'language': None, 'base...   \n",
       "\n",
       "                                      wfw_commentrss slash_comments  \n",
       "0  https://www.oreilly.com/radar/remote-teams-in-...              0  \n",
       "1  https://www.oreilly.com/radar/radar-trends-to-...              0  \n",
       "2  https://www.oreilly.com/radar/the-sobering-tru...              0  \n",
       "3  https://www.oreilly.com/radar/mlops-and-devops...              0  \n",
       "4  https://www.oreilly.com/radar/the-quality-of-a...              0  \n",
       "5  https://www.oreilly.com/radar/radar-trends-to-...              0  \n",
       "6  https://www.oreilly.com/radar/ethical-social-m...              0  \n",
       "7  https://www.oreilly.com/radar/2021-data-ai-sal...              0  \n",
       "8  https://www.oreilly.com/radar/radar-trends-to-...              0  \n",
       "9  https://www.oreilly.com/radar/rebranding-data/...              0  "
      ]
     },
     "execution_count": 118,
     "metadata": {},
     "output_type": "execute_result"
    }
   ],
   "source": [
    "df = pd.DataFrame(d.entries)\n",
    "df.head(10)"
   ]
  },
  {
   "cell_type": "markdown",
   "metadata": {},
   "source": [
    "### 10. Count the number of entries per author and sort them in descending order."
   ]
  },
  {
   "cell_type": "code",
   "execution_count": 119,
   "metadata": {},
   "outputs": [
    {
     "data": {
      "text/plain": [
       "Mike Loukides                                  27\n",
       "Nat Torkington                                 13\n",
       "                                                3\n",
       "Chris Butler                                    3\n",
       "Tim O’Reilly                                    3\n",
       "Q McCallum                                      2\n",
       "Eric Colson, Daragh Sibley and Dave Spiegel     1\n",
       "Shayan Mohanty and Hugo Bowne-Anderson          1\n",
       "Mike Loukides and Kevlin Henney                 1\n",
       "Nitesh Dhanjani                                 1\n",
       "Mike Barlow                                     1\n",
       "Hugo Bowne-Anderson                             1\n",
       "Kevlin Henney                                   1\n",
       "Patrick Hall and Ayoub Ouederni                 1\n",
       "Ville Tuulos and Hugo Bowne-Anderson            1\n",
       "Name: author, dtype: int64"
      ]
     },
     "execution_count": 119,
     "metadata": {},
     "output_type": "execute_result"
    }
   ],
   "source": [
    "df['author'].value_counts().sort_values(ascending=False)"
   ]
  },
  {
   "cell_type": "markdown",
   "metadata": {},
   "source": [
    "### 11. Add a new column to the data frame that contains the length (number of characters) of each entry title. Return a data frame that contains the title, author, and title length of each entry in descending order (longest title length at the top)."
   ]
  },
  {
   "cell_type": "code",
   "execution_count": 120,
   "metadata": {},
   "outputs": [
    {
     "data": {
      "text/html": [
       "<div>\n",
       "<style scoped>\n",
       "    .dataframe tbody tr th:only-of-type {\n",
       "        vertical-align: middle;\n",
       "    }\n",
       "\n",
       "    .dataframe tbody tr th {\n",
       "        vertical-align: top;\n",
       "    }\n",
       "\n",
       "    .dataframe thead th {\n",
       "        text-align: right;\n",
       "    }\n",
       "</style>\n",
       "<table border=\"1\" class=\"dataframe\">\n",
       "  <thead>\n",
       "    <tr style=\"text-align: right;\">\n",
       "      <th></th>\n",
       "      <th>title</th>\n",
       "      <th>author</th>\n",
       "      <th>title_length</th>\n",
       "    </tr>\n",
       "  </thead>\n",
       "  <tbody>\n",
       "    <tr>\n",
       "      <th>37</th>\n",
       "      <td>Where Programming, Ops, AI, and the Cloud are ...</td>\n",
       "      <td>Mike Loukides</td>\n",
       "      <td>60</td>\n",
       "    </tr>\n",
       "    <tr>\n",
       "      <th>2</th>\n",
       "      <td>The Sobering Truth About the Impact of Your Bu...</td>\n",
       "      <td>Eric Colson, Daragh Sibley and Dave Spiegel</td>\n",
       "      <td>58</td>\n",
       "    </tr>\n",
       "    <tr>\n",
       "      <th>21</th>\n",
       "      <td>AI Powered Misinformation and Manipulation at ...</td>\n",
       "      <td>Nitesh Dhanjani</td>\n",
       "      <td>58</td>\n",
       "    </tr>\n",
       "    <tr>\n",
       "      <th>34</th>\n",
       "      <td>5 infrastructure and operations trends to watc...</td>\n",
       "      <td></td>\n",
       "      <td>55</td>\n",
       "    </tr>\n",
       "    <tr>\n",
       "      <th>43</th>\n",
       "      <td>O’Reilly’s top 20 live online training courses...</td>\n",
       "      <td></td>\n",
       "      <td>54</td>\n",
       "    </tr>\n",
       "  </tbody>\n",
       "</table>\n",
       "</div>"
      ],
      "text/plain": [
       "                                                title  \\\n",
       "37  Where Programming, Ops, AI, and the Cloud are ...   \n",
       "2   The Sobering Truth About the Impact of Your Bu...   \n",
       "21  AI Powered Misinformation and Manipulation at ...   \n",
       "34  5 infrastructure and operations trends to watc...   \n",
       "43  O’Reilly’s top 20 live online training courses...   \n",
       "\n",
       "                                         author  title_length  \n",
       "37                                Mike Loukides            60  \n",
       "2   Eric Colson, Daragh Sibley and Dave Spiegel            58  \n",
       "21                              Nitesh Dhanjani            58  \n",
       "34                                                         55  \n",
       "43                                                         54  "
      ]
     },
     "execution_count": 120,
     "metadata": {},
     "output_type": "execute_result"
    }
   ],
   "source": [
    "df['title_length'] = df['title'].str.len()\n",
    "df_new = df[['title', 'author', 'title_length']].sort_values(by='title_length', ascending=False)\n",
    "df_new.head()"
   ]
  },
  {
   "cell_type": "markdown",
   "metadata": {},
   "source": [
    "### 12. Create a list of entry titles whose summary includes the phrase \"machine learning.\""
   ]
  },
  {
   "cell_type": "code",
   "execution_count": 129,
   "metadata": {},
   "outputs": [
    {
     "data": {
      "text/plain": [
       "['MLOps and DevOps: Why Data Makes It Different',\n",
       " 'Hand Labeling Considered Harmful',\n",
       " 'Radar trends to watch: April 2021',\n",
       " 'Seven Legal Questions for Data Scientists']"
      ]
     },
     "execution_count": 129,
     "metadata": {},
     "output_type": "execute_result"
    }
   ],
   "source": [
    "ml_books = list(df[df['summary'].str.contains(pat = 'machine learning')]['title'])\n",
    "ml_books"
   ]
  }
 ],
 "metadata": {
  "kernelspec": {
   "display_name": "Python 3",
   "language": "python",
   "name": "python3"
  },
  "language_info": {
   "codemirror_mode": {
    "name": "ipython",
    "version": 3
   },
   "file_extension": ".py",
   "mimetype": "text/x-python",
   "name": "python",
   "nbconvert_exporter": "python",
   "pygments_lexer": "ipython3",
   "version": "3.8.5"
  }
 },
 "nbformat": 4,
 "nbformat_minor": 2
}
